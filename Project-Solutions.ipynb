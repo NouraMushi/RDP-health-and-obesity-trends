{
 "cells": [
  {
   "cell_type": "markdown",
   "metadata": {},
   "source": [
    "![rmotr](https://user-images.githubusercontent.com/7065401/52071918-bda15380-2562-11e9-828c-7f95297e4a82.png)\n",
    "<hr style=\"margin-bottom: 40px;\">\n",
    "\n",
    "<img src=\"https://user-images.githubusercontent.com/7065401/68886973-eca24380-06f6-11ea-8327-3e9a22e22b43.png\"\n",
    "    style=\"width:400px; float: right; margin: 0 40px 40px 40px;\"></img>\n",
    "\n",
    "### Project\n",
    "\n",
    "# Health and Obesity trends\n",
    "\n",
    "Let's put in practice the topics covered in the course and analyze health and obesity trends."
   ]
  },
  {
   "cell_type": "markdown",
   "metadata": {},
   "source": [
    "![purple-divider](https://user-images.githubusercontent.com/7065401/52071927-c1cd7100-2562-11e9-908a-dde91ba14e59.png)\n",
    "\n",
    "## Hands on! "
   ]
  },
  {
   "cell_type": "code",
   "execution_count": null,
   "metadata": {},
   "outputs": [],
   "source": [
    "import numpy as np\n",
    "import pandas as pd\n",
    "import sqlite3\n",
    "import requests\n",
    "\n",
    "%matplotlib inline"
   ]
  },
  {
   "cell_type": "markdown",
   "metadata": {},
   "source": [
    "![green-divider](https://user-images.githubusercontent.com/7065401/52071924-c003ad80-2562-11e9-8297-1c6595f8a7ff.png)\n",
    "\n",
    "### Read the dump of `USDA Food Composition Database` into a `food_df` DataFrame variable.\n",
    "\n",
    "The National Nutrient Database (NNDB) is provided by the [USDA](https://fdc.nal.usda.gov/download-datasets.html) to allow the public to get standardized information on foods. They document the database and all supporting information on the USDA website.\n",
    "\n",
    "> Although the file format says \"txt\", we call these plain CSVs files and read it using `read_csv` method. Be aware of parsing correctly `NaN` values, data separator, encoding, quotechar and any other parsing option you think necessary.\n",
    "\n",
    "Here's a preview of that file:"
   ]
  },
  {
   "cell_type": "code",
   "execution_count": null,
   "metadata": {},
   "outputs": [],
   "source": [
    "!head data/FOOD_DES.txt"
   ]
  },
  {
   "cell_type": "markdown",
   "metadata": {},
   "source": [
    "The column names are taken from the original documentation for this dataset.\n",
    "\n",
    "> Use the given column names while reading the data."
   ]
  },
  {
   "cell_type": "code",
   "execution_count": null,
   "metadata": {},
   "outputs": [],
   "source": [
    "column_names = ['NDB_No', 'FdGrp_Cd', 'Long_Desc', 'Shrt_Desc', 'ComName',\n",
    "                'ManufacName', 'Survey', 'Ref_desc', 'Refuse', 'SciName',\n",
    "                'N_Factor', 'Pro_Factor', 'Fat_Factor', 'CHO_Factor']"
   ]
  },
  {
   "cell_type": "code",
   "execution_count": null,
   "metadata": {
    "cell_type": "solution",
    "scrolled": true
   },
   "outputs": [],
   "source": [
    "# solution\n",
    "\n",
    "food_df = pd.read_csv('data/FOOD_DES.txt',\n",
    "                      names=column_names,\n",
    "                      sep='^',\n",
    "                      header=None,\n",
    "                      quotechar='~',\n",
    "                      encoding='iso-8859-1')\n",
    "\n",
    "food_df.head()"
   ]
  },
  {
   "cell_type": "markdown",
   "metadata": {},
   "source": [
    "How many products do we have?"
   ]
  },
  {
   "cell_type": "code",
   "execution_count": null,
   "metadata": {
    "cell_type": "solution"
   },
   "outputs": [],
   "source": [
    "# solution\n",
    "\n",
    "food_df.shape[0]"
   ]
  },
  {
   "cell_type": "markdown",
   "metadata": {},
   "source": [
    "![green-divider](https://user-images.githubusercontent.com/7065401/52071924-c003ad80-2562-11e9-8297-1c6595f8a7ff.png)\n",
    "\n",
    "### Variables distribution\n",
    "\n",
    "Analyze how values are distributed:\n",
    "\n",
    "- Create an histogram of `Refuse` variable.\n",
    "- Create a boxplot of `N_Factor` variable."
   ]
  },
  {
   "cell_type": "code",
   "execution_count": null,
   "metadata": {
    "cell_type": "solution"
   },
   "outputs": [],
   "source": [
    "# solution\n",
    "\n",
    "food_df['Refuse'].plot(kind='hist')"
   ]
  },
  {
   "cell_type": "code",
   "execution_count": null,
   "metadata": {
    "cell_type": "solution",
    "scrolled": true
   },
   "outputs": [],
   "source": [
    "# solution\n",
    "\n",
    "food_df['N_Factor'].plot(kind='box')"
   ]
  },
  {
   "cell_type": "markdown",
   "metadata": {},
   "source": [
    "![green-divider](https://user-images.githubusercontent.com/7065401/52071924-c003ad80-2562-11e9-8297-1c6595f8a7ff.png)\n",
    "\n",
    "### Which are the top-10 food manufacturers with more products on `food_df`."
   ]
  },
  {
   "cell_type": "code",
   "execution_count": null,
   "metadata": {
    "cell_type": "solution"
   },
   "outputs": [],
   "source": [
    "# solution\n",
    "\n",
    "food_df['ManufacName'].value_counts()[:10]"
   ]
  },
  {
   "cell_type": "markdown",
   "metadata": {},
   "source": [
    "Also create a bar plot showing that results."
   ]
  },
  {
   "cell_type": "code",
   "execution_count": null,
   "metadata": {
    "cell_type": "solution"
   },
   "outputs": [],
   "source": [
    "# solution\n",
    "\n",
    "food_df['ManufacName'].value_counts()[:10].plot(kind='bar')"
   ]
  },
  {
   "cell_type": "markdown",
   "metadata": {},
   "source": [
    "![green-divider](https://user-images.githubusercontent.com/7065401/52071924-c003ad80-2562-11e9-8297-1c6595f8a7ff.png)\n",
    "\n",
    "## Analyzing Starbucks nutrition facts\n",
    "\n",
    "Starbucks is an American coffee chain founded in Seattle. It serves both beverages and food.\n",
    "\n",
    "<img width=\"650\" alt=\"Starbucks\" src=\"https://user-images.githubusercontent.com/7065401/68891327-57f01380-06ff-11ea-8461-eb35ba0c3bb0.png\">\n",
    "\n",
    "We'll analyze the nutritional information for Starbucks’ drink menu items using this [Nutrition facts for Starbucks drinks](https://www.kaggle.com/starbucks/starbucks) data. All nutritional information for drinks are for a 12oz serving size."
   ]
  },
  {
   "cell_type": "markdown",
   "metadata": {},
   "source": [
    "![green-divider](https://user-images.githubusercontent.com/7065401/52071924-c003ad80-2562-11e9-8297-1c6595f8a7ff.png)\n",
    "\n",
    "### Getting Starbucks' drinks information\n",
    "\n",
    "- Create an sqlite3 connection to the `starbucks.db` SQLite3 database.\n",
    "- Read from the `drinks` table just the items with more than 100 calories and save them to a `drinks_df` DataFrame variable."
   ]
  },
  {
   "cell_type": "code",
   "execution_count": null,
   "metadata": {
    "cell_type": "solution",
    "scrolled": true
   },
   "outputs": [],
   "source": [
    "# solution\n",
    "\n",
    "conn = sqlite3.connect('data/starbucks.db')\n",
    "\n",
    "drinks_df = pd.read_sql('SELECT * FROM drinks WHERE Calories > 100;', conn)\n",
    "\n",
    "conn.close()\n",
    "\n",
    "drinks_df.head(10)"
   ]
  },
  {
   "cell_type": "markdown",
   "metadata": {},
   "source": [
    "![green-divider](https://user-images.githubusercontent.com/7065401/52071924-c003ad80-2562-11e9-8297-1c6595f8a7ff.png)\n",
    "\n",
    "### Which is the item with the highest calories?"
   ]
  },
  {
   "cell_type": "code",
   "execution_count": null,
   "metadata": {
    "cell_type": "solution"
   },
   "outputs": [],
   "source": [
    "# solution\n",
    "\n",
    "max_calories = drinks_df['Calories'].max()\n",
    "\n",
    "max_calories_item = drinks_df.loc[drinks_df['Calories'] == max_calories]\n",
    "\n",
    "max_calories_item"
   ]
  },
  {
   "cell_type": "markdown",
   "metadata": {},
   "source": [
    "![green-divider](https://user-images.githubusercontent.com/7065401/52071924-c003ad80-2562-11e9-8297-1c6595f8a7ff.png)\n",
    "\n",
    "### Create two groups of items: \"`less or equal 150 calories`\" and \"`more 150 calories`\""
   ]
  },
  {
   "cell_type": "code",
   "execution_count": null,
   "metadata": {
    "cell_type": "solution"
   },
   "outputs": [],
   "source": [
    "# solution\n",
    "\n",
    "less_equal_150_cal = drinks_df[drinks_df['Calories'] <= 150]\n",
    "\n",
    "less_equal_150_cal.head()"
   ]
  },
  {
   "cell_type": "code",
   "execution_count": null,
   "metadata": {
    "cell_type": "solution",
    "scrolled": true
   },
   "outputs": [],
   "source": [
    "# solution\n",
    "\n",
    "more_150_cal = drinks_df[drinks_df['Calories'] > 150]\n",
    "\n",
    "more_150_cal.head()"
   ]
  },
  {
   "cell_type": "markdown",
   "metadata": {},
   "source": [
    "![green-divider](https://user-images.githubusercontent.com/7065401/52071924-c003ad80-2562-11e9-8297-1c6595f8a7ff.png)\n",
    "\n",
    "### Compare item characteristics\n",
    "\n",
    "Create a `compare_groups()` function that compares a given field of both groups of data, `less_equal_150_cal` and `more_150_cal`, by showing two overlapped histograms.\n",
    "\n",
    "- You should use different colors per histogram. Also add a little bit of opacity (use `alpha=0.4`).\n",
    "- The function MUST check that the given field exists, and raise `ValueError` with a \"Field not found\" message otherwise.\n"
   ]
  },
  {
   "cell_type": "code",
   "execution_count": null,
   "metadata": {
    "cell_type": "solution"
   },
   "outputs": [],
   "source": [
    "# solution\n",
    "def compare_groups(field):\n",
    "    if (field in less_equal_150_cal.columns):\n",
    "        less_equal_150_cal[field].plot(kind='hist', color='blue', alpha=0.4, title=field)\n",
    "        more_150_cal[field].plot(kind='hist', color='red', alpha=0.4)\n",
    "    else:\n",
    "        raise ValueError(f\"Field '{field}' not found\")"
   ]
  },
  {
   "cell_type": "markdown",
   "metadata": {},
   "source": [
    "Validate your function showing a comparison of the `Calories` per group."
   ]
  },
  {
   "cell_type": "code",
   "execution_count": null,
   "metadata": {
    "cell_type": "solution"
   },
   "outputs": [],
   "source": [
    "# solution\n",
    "compare_groups('Calories')"
   ]
  },
  {
   "cell_type": "markdown",
   "metadata": {},
   "source": [
    "Now answer: **Less Calories implies less Sodium?**"
   ]
  },
  {
   "cell_type": "code",
   "execution_count": null,
   "metadata": {
    "cell_type": "solution"
   },
   "outputs": [],
   "source": [
    "# solution\n",
    "compare_groups('Sodium')"
   ]
  },
  {
   "cell_type": "markdown",
   "metadata": {},
   "source": [
    "**Less Calories implies less Carbs?**"
   ]
  },
  {
   "cell_type": "code",
   "execution_count": null,
   "metadata": {
    "cell_type": "solution"
   },
   "outputs": [],
   "source": [
    "# solution\n",
    "compare_groups('Carb')"
   ]
  },
  {
   "cell_type": "markdown",
   "metadata": {},
   "source": [
    "**Less Calories implies less Proteins?**"
   ]
  },
  {
   "cell_type": "code",
   "execution_count": null,
   "metadata": {
    "cell_type": "solution"
   },
   "outputs": [],
   "source": [
    "# solution\n",
    "compare_groups('Protein')"
   ]
  },
  {
   "cell_type": "markdown",
   "metadata": {},
   "source": [
    "![green-divider](https://user-images.githubusercontent.com/7065401/52071924-c003ad80-2562-11e9-8297-1c6595f8a7ff.png)\n",
    "\n",
    "## Healthy diet interest\n",
    "\n",
    "In order to measure interest on healthy diets, we'll analyze how many pageviews the article `Healthy diet` received during the last years.\n",
    "\n",
    "![Food-piramid](https://user-images.githubusercontent.com/7065401/68880286-bf02cd80-06e9-11ea-8d42-ff6dbb539f7d.png)\n",
    "\n",
    "To get pageviews from Wikipedia, we'll need to use the _Analytics API_. Here you can find [the documentation](https://wikitech.wikimedia.org/wiki/Analytics/AQS/Pageviews) to get pageviews from an article.\n",
    "\n",
    "To get monthly pageviews for a given article, you can use the following endpoint:\n",
    "\n",
    "```\n",
    "https://wikimedia.org/api/rest_v1/metrics/pageviews/per-article/en.wikipedia/all-access/all-agents/{ARTICLE}/monthly/{START}/{END}\n",
    "```"
   ]
  },
  {
   "cell_type": "markdown",
   "metadata": {},
   "source": [
    "![green-divider](https://user-images.githubusercontent.com/7065401/52071924-c003ad80-2562-11e9-8297-1c6595f8a7ff.png)\n",
    "\n",
    "### Get data from Wikipedia using its API\n",
    "\n",
    "Make a request to Wikipedia API to get monthly page views for `Healthy_diet` article from year 2015 (`2015010100`) to 2019 (`2019100100`).\n",
    "\n",
    "Store the response in a `pageviews_df` DataFrame variable."
   ]
  },
  {
   "cell_type": "code",
   "execution_count": null,
   "metadata": {},
   "outputs": [],
   "source": [
    "url = \"https://wikimedia.org/api/rest_v1/metrics/pageviews/per-article/en.wikipedia/all-access/all-agents/Healthy_diet/monthly/2015010100/2019100100\""
   ]
  },
  {
   "cell_type": "code",
   "execution_count": null,
   "metadata": {
    "cell_type": "solution"
   },
   "outputs": [],
   "source": [
    "# solution\n",
    "\n",
    "resp = requests.get(url)\n",
    "\n",
    "dict_json = resp.json()\n",
    "\n",
    "pageviews_df = pd.DataFrame.from_dict(dict_json['items'])\n",
    "\n",
    "pageviews_df.head()"
   ]
  },
  {
   "cell_type": "markdown",
   "metadata": {},
   "source": [
    "![green-divider](https://user-images.githubusercontent.com/7065401/52071924-c003ad80-2562-11e9-8297-1c6595f8a7ff.png)\n",
    "\n",
    "### When was the highest search peak?\n",
    "\n",
    "Save in a `max_pageviews_str` variable the date where `Healthy_diet` article had the highest volume of page views.\n",
    "\n",
    "Also save a `max_pageview_date` with that previous value parsed to `datetime`."
   ]
  },
  {
   "cell_type": "code",
   "execution_count": null,
   "metadata": {
    "cell_type": "solution"
   },
   "outputs": [],
   "source": [
    "# solution\n",
    "\n",
    "max_pageviews_df = pageviews_df.loc[pageviews_df['views'] == pageviews_df['views'].max()]\n",
    "\n",
    "max_pageviews_str = max_pageviews_df['timestamp'].values[0]\n",
    "print(max_pageviews_str)\n",
    "\n",
    "max_pageviews_date = pd.to_datetime(max_pageviews_str, format='%Y%m%d%H')\n",
    "print(max_pageviews_date)"
   ]
  },
  {
   "cell_type": "markdown",
   "metadata": {},
   "source": [
    "We can draw a quick plot showing the evolution of `views` per month:"
   ]
  },
  {
   "cell_type": "code",
   "execution_count": null,
   "metadata": {},
   "outputs": [],
   "source": [
    "import matplotlib.pyplot as plt\n",
    "\n",
    "plt.figure(figsize=(14, 6))\n",
    "plt.plot(pageviews_df['timestamp'], pageviews_df['views'])\n",
    "\n",
    "plt.axvline(x=max_pageviews_str, color='green')\n",
    "\n",
    "plt.xticks(rotation=90)\n",
    "plt.show()"
   ]
  },
  {
   "cell_type": "markdown",
   "metadata": {},
   "source": [
    "![green-divider](https://user-images.githubusercontent.com/7065401/52071924-c003ad80-2562-11e9-8297-1c6595f8a7ff.png)\n",
    "\n",
    "### Get more data from Wikipedia API\n",
    "\n",
    "Create a `get_pageviews_count()` function that receives a variable number **article names** as argument, and returns a dictionary with the sum of pageviews during 2018 for each of these article names.\n",
    "\n",
    "- The function MUST check that at least one parameter is found, and raise a `ValueError` otherwise.\n",
    "\n",
    "```\n",
    "https://wikimedia.org/api/rest_v1/metrics/pageviews/per-article/en.wikipedia/all-access/all-agents/{ARTICLE}/monthly/2018010100/2018123100\n",
    "```"
   ]
  },
  {
   "cell_type": "code",
   "execution_count": null,
   "metadata": {
    "cell_type": "solution"
   },
   "outputs": [],
   "source": [
    "# solution\n",
    "\n",
    "def get_pageviews_count(*args):\n",
    "    if (not len(args)):\n",
    "        raise ValueError('No article names found')\n",
    "    \n",
    "    dict = {}\n",
    "        \n",
    "    for article_name in args:\n",
    "        url = f'https://wikimedia.org/api/rest_v1/metrics/pageviews/per-article/en.wikipedia/all-access/all-agents/{article_name}/monthly/2018010100/2018123100'\n",
    "\n",
    "        resp = requests.get(url)\n",
    "\n",
    "        dict_json = resp.json()\n",
    "\n",
    "        article_df = pd.DataFrame.from_dict(dict_json['items'])\n",
    "        \n",
    "        dict[article_name] = article_df['views'].sum()\n",
    "    \n",
    "    return dict"
   ]
  },
  {
   "cell_type": "markdown",
   "metadata": {},
   "source": [
    "Calling `get_pageviews_count('Healthy_diet', 'Food', 'Obesity')` should return something like:\n",
    "\n",
    "```\n",
    "{'Healthy_diet': 478712, 'Food': 1125874, 'Obesity': 1092577}\n",
    "```"
   ]
  },
  {
   "cell_type": "code",
   "execution_count": null,
   "metadata": {},
   "outputs": [],
   "source": [
    "get_pageviews_count('Healthy_diet', 'Food', 'Obesity')"
   ]
  },
  {
   "cell_type": "markdown",
   "metadata": {},
   "source": [
    "![green-divider](https://user-images.githubusercontent.com/7065401/52071924-c003ad80-2562-11e9-8297-1c6595f8a7ff.png)\n",
    "\n",
    "## Obesity trends in the USA\n",
    "\n",
    "Obesity in the United States is a major health issue, resulting in numerous diseases, specifically increased risk of certain types of cancer, coronary artery disease, type 2 diabetes, stroke, as well as significant increases in early mortality and economic costs.\n",
    "\n",
    "Let's analyze obesity trends on each state of the USA. To do that take a look at the _Obesity in the United States_ Wikipedia article where they analyze obesity revalence by state and territory.\n",
    "\n",
    "<img width=\"500\" alt=\"Obesity-trends\" src=\"https://user-images.githubusercontent.com/7065401/68873389-5a8e4100-06de-11ea-844c-5ec622af5caa.png\">"
   ]
  },
  {
   "cell_type": "code",
   "execution_count": null,
   "metadata": {},
   "outputs": [],
   "source": [
    "url = 'https://en.wikipedia.org/wiki/Obesity_in_the_United_States'"
   ]
  },
  {
   "cell_type": "markdown",
   "metadata": {},
   "source": [
    "![green-divider](https://user-images.githubusercontent.com/7065401/52071924-c003ad80-2562-11e9-8297-1c6595f8a7ff.png)\n",
    "\n",
    "### Read the HTML table at the end of the article into a `obesity_df` DataFrame object.\n",
    "\n",
    "> Be aware of parsing correctly `NaN` values that appear as `—` characters.\n",
    "\n",
    "<img width=\"450\" alt=\"Obesity-table\" src=\"https://user-images.githubusercontent.com/7065401/68880373-e5286d80-06e9-11ea-9bd0-f59ffcf02341.png\">"
   ]
  },
  {
   "cell_type": "code",
   "execution_count": null,
   "metadata": {
    "cell_type": "solution"
   },
   "outputs": [],
   "source": [
    "# solution\n",
    "\n",
    "dfs = pd.read_html(url, na_values='—')\n",
    "\n",
    "obesity_df = dfs[0]\n",
    "\n",
    "obesity_df.head()"
   ]
  },
  {
   "cell_type": "markdown",
   "metadata": {},
   "source": [
    "![green-divider](https://user-images.githubusercontent.com/7065401/52071924-c003ad80-2562-11e9-8297-1c6595f8a7ff.png)\n",
    "\n",
    "### Sort the states by _Obesity rank_ and get the 5 states at the top. Show name and obesity rank."
   ]
  },
  {
   "cell_type": "code",
   "execution_count": null,
   "metadata": {
    "cell_type": "solution"
   },
   "outputs": [],
   "source": [
    "# solution\n",
    "\n",
    "top_5_obesity = obesity_df.sort_values('Obesity rank').iloc[:5, [0, 5]]\n",
    "\n",
    "top_5_obesity"
   ]
  },
  {
   "cell_type": "markdown",
   "metadata": {},
   "source": [
    "![purple-divider](https://user-images.githubusercontent.com/7065401/52071927-c1cd7100-2562-11e9-908a-dde91ba14e59.png)"
   ]
  }
 ],
 "metadata": {
  "kernelspec": {
   "display_name": "Python 3",
   "language": "python",
   "name": "python3"
  },
  "language_info": {
   "codemirror_mode": {
    "name": "ipython",
    "version": 3
   },
   "file_extension": ".py",
   "mimetype": "text/x-python",
   "name": "python",
   "nbconvert_exporter": "python",
   "pygments_lexer": "ipython3",
   "version": "3.7.7"
  }
 },
 "nbformat": 4,
 "nbformat_minor": 2
}
